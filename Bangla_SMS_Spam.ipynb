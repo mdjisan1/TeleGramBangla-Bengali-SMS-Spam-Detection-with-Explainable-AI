{
  "nbformat": 4,
  "nbformat_minor": 0,
  "metadata": {
    "colab": {
      "provenance": [],
      "gpuType": "T4"
    },
    "kernelspec": {
      "name": "python3",
      "display_name": "Python 3"
    },
    "language_info": {
      "name": "python"
    },
    "accelerator": "GPU"
  },
  "cells": [
    {
      "cell_type": "markdown",
      "source": [
        "# Importing Necessary Libraries"
      ],
      "metadata": {
        "id": "ncz3c6R980QN"
      }
    },
    {
      "cell_type": "code",
      "source": [
        "# Data handling\n",
        "import numpy as np\n",
        "import pandas as pd\n",
        "\n",
        "# Visualization\n",
        "import matplotlib.pyplot as plt\n",
        "import seaborn as sns\n",
        "\n",
        "# Text processing\n",
        "import re\n",
        "\n",
        "# File handling\n",
        "import pickle\n",
        "\n",
        "# Machine Learning\n",
        "from sklearn.model_selection import train_test_split\n",
        "from sklearn.feature_extraction.text import TfidfVectorizer\n",
        "from sklearn.naive_bayes import MultinomialNB\n",
        "from sklearn.linear_model import LogisticRegression\n",
        "from sklearn.svm import LinearSVC\n",
        "from sklearn.metrics import classification_report, confusion_matrix, accuracy_score, f1_score\n",
        "\n",
        "# Kaggle integration\n",
        "import kagglehub"
      ],
      "metadata": {
        "id": "vupx4EDK85It"
      },
      "execution_count": 62,
      "outputs": []
    },
    {
      "cell_type": "markdown",
      "source": [
        "# Step 1: Import & Explore Dataset"
      ],
      "metadata": {
        "id": "sxEDGaZQ8ujM"
      }
    },
    {
      "cell_type": "code",
      "source": [
        "# Kaggle Dataset path\n",
        "path = kagglehub.dataset_download(\"fahimvj/bengali-sms-spam-detection-dataset\")\n",
        "\n",
        "print(\"Path to dataset files:\", path)"
      ],
      "metadata": {
        "colab": {
          "base_uri": "https://localhost:8080/"
        },
        "id": "Hj5EYpBztoyD",
        "outputId": "bac3ac32-31ae-4fb9-bbd4-32708008bebc"
      },
      "execution_count": null,
      "outputs": [
        {
          "output_type": "stream",
          "name": "stdout",
          "text": [
            "Downloading from https://www.kaggle.com/api/v1/datasets/download/fahimvj/bengali-sms-spam-detection-dataset?dataset_version_number=1...\n"
          ]
        },
        {
          "output_type": "stream",
          "name": "stderr",
          "text": [
            "100%|██████████| 118k/118k [00:00<00:00, 65.7MB/s]"
          ]
        },
        {
          "output_type": "stream",
          "name": "stdout",
          "text": [
            "Extracting files...\n",
            "Path to dataset files: /root/.cache/kagglehub/datasets/fahimvj/bengali-sms-spam-detection-dataset/versions/1\n"
          ]
        },
        {
          "output_type": "stream",
          "name": "stderr",
          "text": [
            "\n"
          ]
        }
      ]
    },
    {
      "cell_type": "code",
      "source": [
        "# Load dataset\n",
        "df = pd.read_csv(f\"{path}/bangla_spam.csv\")\n",
        "print(\"Dataset loaded successfully.\")"
      ],
      "metadata": {
        "colab": {
          "base_uri": "https://localhost:8080/"
        },
        "id": "0eZL0vcntpVK",
        "outputId": "93696ecc-88b3-4ee4-b5fc-9c2e16eac030"
      },
      "execution_count": null,
      "outputs": [
        {
          "output_type": "stream",
          "name": "stdout",
          "text": [
            "Dataset loaded successfully.\n"
          ]
        }
      ]
    },
    {
      "cell_type": "code",
      "source": [
        "df"
      ],
      "metadata": {
        "colab": {
          "base_uri": "https://localhost:8080/",
          "height": 423
        },
        "id": "wRrTQIzSviy4",
        "outputId": "94ab2189-74a9-4f7a-a192-fa966701da5b"
      },
      "execution_count": null,
      "outputs": [
        {
          "output_type": "execute_result",
          "data": {
            "text/plain": [
              "      type                                               text\n",
              "0     spam  এই মেসেজটি শেয়ার করুন এবং জিতে নিন আকর্ষণীয় ...\n",
              "1     spam  আপনার বন্ধুদের রেফার করুন এবং প্রতি রেফারেলে ২...\n",
              "2      ham  ট্রানজ্যাকশন নম্বর R234321.1554.640085 20 টাকা...\n",
              "3     spam  নতুন অফার! সীমিত সময়ের জন্য পণ্যের উপর ৯০% পর...\n",
              "4      ham  নববর্ষের শুভেচ্ছা!! আল্লাহ আপনার সকল কষ্ট দূর ...\n",
              "...    ...                                                ...\n",
              "2597  spam   প্রতিদিন ১০০ টাকা জিততে চান? এখনই অংশগ্রহণ করুন!\n",
              "2598  spam  মোবাইল অ্যাপ ডাউনলোড করুন এবং ৫০০ টাকা বোনাস পান!\n",
              "2599  spam    নতুন গ্রাহকদের জন্য বিশেষ অফার, আজই উপভোগ করুন!\n",
              "2600  spam  আপনার অ্যাকাউন্ট আপগ্রেড করুন এবং এক্সক্লুসিভ ...\n",
              "2601  spam  বিশেষ ছাড়! ২৪ ঘন্টার মধ্যে অর্ডার করুন এবং ৩০...\n",
              "\n",
              "[2602 rows x 2 columns]"
            ],
            "text/html": [
              "\n",
              "  <div id=\"df-794d409c-2675-46f3-b0ce-076852ac07a5\" class=\"colab-df-container\">\n",
              "    <div>\n",
              "<style scoped>\n",
              "    .dataframe tbody tr th:only-of-type {\n",
              "        vertical-align: middle;\n",
              "    }\n",
              "\n",
              "    .dataframe tbody tr th {\n",
              "        vertical-align: top;\n",
              "    }\n",
              "\n",
              "    .dataframe thead th {\n",
              "        text-align: right;\n",
              "    }\n",
              "</style>\n",
              "<table border=\"1\" class=\"dataframe\">\n",
              "  <thead>\n",
              "    <tr style=\"text-align: right;\">\n",
              "      <th></th>\n",
              "      <th>type</th>\n",
              "      <th>text</th>\n",
              "    </tr>\n",
              "  </thead>\n",
              "  <tbody>\n",
              "    <tr>\n",
              "      <th>0</th>\n",
              "      <td>spam</td>\n",
              "      <td>এই মেসেজটি শেয়ার করুন এবং জিতে নিন আকর্ষণীয় ...</td>\n",
              "    </tr>\n",
              "    <tr>\n",
              "      <th>1</th>\n",
              "      <td>spam</td>\n",
              "      <td>আপনার বন্ধুদের রেফার করুন এবং প্রতি রেফারেলে ২...</td>\n",
              "    </tr>\n",
              "    <tr>\n",
              "      <th>2</th>\n",
              "      <td>ham</td>\n",
              "      <td>ট্রানজ্যাকশন নম্বর R234321.1554.640085 20 টাকা...</td>\n",
              "    </tr>\n",
              "    <tr>\n",
              "      <th>3</th>\n",
              "      <td>spam</td>\n",
              "      <td>নতুন অফার! সীমিত সময়ের জন্য পণ্যের উপর ৯০% পর...</td>\n",
              "    </tr>\n",
              "    <tr>\n",
              "      <th>4</th>\n",
              "      <td>ham</td>\n",
              "      <td>নববর্ষের শুভেচ্ছা!! আল্লাহ আপনার সকল কষ্ট দূর ...</td>\n",
              "    </tr>\n",
              "    <tr>\n",
              "      <th>...</th>\n",
              "      <td>...</td>\n",
              "      <td>...</td>\n",
              "    </tr>\n",
              "    <tr>\n",
              "      <th>2597</th>\n",
              "      <td>spam</td>\n",
              "      <td>প্রতিদিন ১০০ টাকা জিততে চান? এখনই অংশগ্রহণ করুন!</td>\n",
              "    </tr>\n",
              "    <tr>\n",
              "      <th>2598</th>\n",
              "      <td>spam</td>\n",
              "      <td>মোবাইল অ্যাপ ডাউনলোড করুন এবং ৫০০ টাকা বোনাস পান!</td>\n",
              "    </tr>\n",
              "    <tr>\n",
              "      <th>2599</th>\n",
              "      <td>spam</td>\n",
              "      <td>নতুন গ্রাহকদের জন্য বিশেষ অফার, আজই উপভোগ করুন!</td>\n",
              "    </tr>\n",
              "    <tr>\n",
              "      <th>2600</th>\n",
              "      <td>spam</td>\n",
              "      <td>আপনার অ্যাকাউন্ট আপগ্রেড করুন এবং এক্সক্লুসিভ ...</td>\n",
              "    </tr>\n",
              "    <tr>\n",
              "      <th>2601</th>\n",
              "      <td>spam</td>\n",
              "      <td>বিশেষ ছাড়! ২৪ ঘন্টার মধ্যে অর্ডার করুন এবং ৩০...</td>\n",
              "    </tr>\n",
              "  </tbody>\n",
              "</table>\n",
              "<p>2602 rows × 2 columns</p>\n",
              "</div>\n",
              "    <div class=\"colab-df-buttons\">\n",
              "\n",
              "  <div class=\"colab-df-container\">\n",
              "    <button class=\"colab-df-convert\" onclick=\"convertToInteractive('df-794d409c-2675-46f3-b0ce-076852ac07a5')\"\n",
              "            title=\"Convert this dataframe to an interactive table.\"\n",
              "            style=\"display:none;\">\n",
              "\n",
              "  <svg xmlns=\"http://www.w3.org/2000/svg\" height=\"24px\" viewBox=\"0 -960 960 960\">\n",
              "    <path d=\"M120-120v-720h720v720H120Zm60-500h600v-160H180v160Zm220 220h160v-160H400v160Zm0 220h160v-160H400v160ZM180-400h160v-160H180v160Zm440 0h160v-160H620v160ZM180-180h160v-160H180v160Zm440 0h160v-160H620v160Z\"/>\n",
              "  </svg>\n",
              "    </button>\n",
              "\n",
              "  <style>\n",
              "    .colab-df-container {\n",
              "      display:flex;\n",
              "      gap: 12px;\n",
              "    }\n",
              "\n",
              "    .colab-df-convert {\n",
              "      background-color: #E8F0FE;\n",
              "      border: none;\n",
              "      border-radius: 50%;\n",
              "      cursor: pointer;\n",
              "      display: none;\n",
              "      fill: #1967D2;\n",
              "      height: 32px;\n",
              "      padding: 0 0 0 0;\n",
              "      width: 32px;\n",
              "    }\n",
              "\n",
              "    .colab-df-convert:hover {\n",
              "      background-color: #E2EBFA;\n",
              "      box-shadow: 0px 1px 2px rgba(60, 64, 67, 0.3), 0px 1px 3px 1px rgba(60, 64, 67, 0.15);\n",
              "      fill: #174EA6;\n",
              "    }\n",
              "\n",
              "    .colab-df-buttons div {\n",
              "      margin-bottom: 4px;\n",
              "    }\n",
              "\n",
              "    [theme=dark] .colab-df-convert {\n",
              "      background-color: #3B4455;\n",
              "      fill: #D2E3FC;\n",
              "    }\n",
              "\n",
              "    [theme=dark] .colab-df-convert:hover {\n",
              "      background-color: #434B5C;\n",
              "      box-shadow: 0px 1px 3px 1px rgba(0, 0, 0, 0.15);\n",
              "      filter: drop-shadow(0px 1px 2px rgba(0, 0, 0, 0.3));\n",
              "      fill: #FFFFFF;\n",
              "    }\n",
              "  </style>\n",
              "\n",
              "    <script>\n",
              "      const buttonEl =\n",
              "        document.querySelector('#df-794d409c-2675-46f3-b0ce-076852ac07a5 button.colab-df-convert');\n",
              "      buttonEl.style.display =\n",
              "        google.colab.kernel.accessAllowed ? 'block' : 'none';\n",
              "\n",
              "      async function convertToInteractive(key) {\n",
              "        const element = document.querySelector('#df-794d409c-2675-46f3-b0ce-076852ac07a5');\n",
              "        const dataTable =\n",
              "          await google.colab.kernel.invokeFunction('convertToInteractive',\n",
              "                                                    [key], {});\n",
              "        if (!dataTable) return;\n",
              "\n",
              "        const docLinkHtml = 'Like what you see? Visit the ' +\n",
              "          '<a target=\"_blank\" href=https://colab.research.google.com/notebooks/data_table.ipynb>data table notebook</a>'\n",
              "          + ' to learn more about interactive tables.';\n",
              "        element.innerHTML = '';\n",
              "        dataTable['output_type'] = 'display_data';\n",
              "        await google.colab.output.renderOutput(dataTable, element);\n",
              "        const docLink = document.createElement('div');\n",
              "        docLink.innerHTML = docLinkHtml;\n",
              "        element.appendChild(docLink);\n",
              "      }\n",
              "    </script>\n",
              "  </div>\n",
              "\n",
              "\n",
              "    <div id=\"df-1455cc43-42c6-4c23-865e-8266186f5e0b\">\n",
              "      <button class=\"colab-df-quickchart\" onclick=\"quickchart('df-1455cc43-42c6-4c23-865e-8266186f5e0b')\"\n",
              "                title=\"Suggest charts\"\n",
              "                style=\"display:none;\">\n",
              "\n",
              "<svg xmlns=\"http://www.w3.org/2000/svg\" height=\"24px\"viewBox=\"0 0 24 24\"\n",
              "     width=\"24px\">\n",
              "    <g>\n",
              "        <path d=\"M19 3H5c-1.1 0-2 .9-2 2v14c0 1.1.9 2 2 2h14c1.1 0 2-.9 2-2V5c0-1.1-.9-2-2-2zM9 17H7v-7h2v7zm4 0h-2V7h2v10zm4 0h-2v-4h2v4z\"/>\n",
              "    </g>\n",
              "</svg>\n",
              "      </button>\n",
              "\n",
              "<style>\n",
              "  .colab-df-quickchart {\n",
              "      --bg-color: #E8F0FE;\n",
              "      --fill-color: #1967D2;\n",
              "      --hover-bg-color: #E2EBFA;\n",
              "      --hover-fill-color: #174EA6;\n",
              "      --disabled-fill-color: #AAA;\n",
              "      --disabled-bg-color: #DDD;\n",
              "  }\n",
              "\n",
              "  [theme=dark] .colab-df-quickchart {\n",
              "      --bg-color: #3B4455;\n",
              "      --fill-color: #D2E3FC;\n",
              "      --hover-bg-color: #434B5C;\n",
              "      --hover-fill-color: #FFFFFF;\n",
              "      --disabled-bg-color: #3B4455;\n",
              "      --disabled-fill-color: #666;\n",
              "  }\n",
              "\n",
              "  .colab-df-quickchart {\n",
              "    background-color: var(--bg-color);\n",
              "    border: none;\n",
              "    border-radius: 50%;\n",
              "    cursor: pointer;\n",
              "    display: none;\n",
              "    fill: var(--fill-color);\n",
              "    height: 32px;\n",
              "    padding: 0;\n",
              "    width: 32px;\n",
              "  }\n",
              "\n",
              "  .colab-df-quickchart:hover {\n",
              "    background-color: var(--hover-bg-color);\n",
              "    box-shadow: 0 1px 2px rgba(60, 64, 67, 0.3), 0 1px 3px 1px rgba(60, 64, 67, 0.15);\n",
              "    fill: var(--button-hover-fill-color);\n",
              "  }\n",
              "\n",
              "  .colab-df-quickchart-complete:disabled,\n",
              "  .colab-df-quickchart-complete:disabled:hover {\n",
              "    background-color: var(--disabled-bg-color);\n",
              "    fill: var(--disabled-fill-color);\n",
              "    box-shadow: none;\n",
              "  }\n",
              "\n",
              "  .colab-df-spinner {\n",
              "    border: 2px solid var(--fill-color);\n",
              "    border-color: transparent;\n",
              "    border-bottom-color: var(--fill-color);\n",
              "    animation:\n",
              "      spin 1s steps(1) infinite;\n",
              "  }\n",
              "\n",
              "  @keyframes spin {\n",
              "    0% {\n",
              "      border-color: transparent;\n",
              "      border-bottom-color: var(--fill-color);\n",
              "      border-left-color: var(--fill-color);\n",
              "    }\n",
              "    20% {\n",
              "      border-color: transparent;\n",
              "      border-left-color: var(--fill-color);\n",
              "      border-top-color: var(--fill-color);\n",
              "    }\n",
              "    30% {\n",
              "      border-color: transparent;\n",
              "      border-left-color: var(--fill-color);\n",
              "      border-top-color: var(--fill-color);\n",
              "      border-right-color: var(--fill-color);\n",
              "    }\n",
              "    40% {\n",
              "      border-color: transparent;\n",
              "      border-right-color: var(--fill-color);\n",
              "      border-top-color: var(--fill-color);\n",
              "    }\n",
              "    60% {\n",
              "      border-color: transparent;\n",
              "      border-right-color: var(--fill-color);\n",
              "    }\n",
              "    80% {\n",
              "      border-color: transparent;\n",
              "      border-right-color: var(--fill-color);\n",
              "      border-bottom-color: var(--fill-color);\n",
              "    }\n",
              "    90% {\n",
              "      border-color: transparent;\n",
              "      border-bottom-color: var(--fill-color);\n",
              "    }\n",
              "  }\n",
              "</style>\n",
              "\n",
              "      <script>\n",
              "        async function quickchart(key) {\n",
              "          const quickchartButtonEl =\n",
              "            document.querySelector('#' + key + ' button');\n",
              "          quickchartButtonEl.disabled = true;  // To prevent multiple clicks.\n",
              "          quickchartButtonEl.classList.add('colab-df-spinner');\n",
              "          try {\n",
              "            const charts = await google.colab.kernel.invokeFunction(\n",
              "                'suggestCharts', [key], {});\n",
              "          } catch (error) {\n",
              "            console.error('Error during call to suggestCharts:', error);\n",
              "          }\n",
              "          quickchartButtonEl.classList.remove('colab-df-spinner');\n",
              "          quickchartButtonEl.classList.add('colab-df-quickchart-complete');\n",
              "        }\n",
              "        (() => {\n",
              "          let quickchartButtonEl =\n",
              "            document.querySelector('#df-1455cc43-42c6-4c23-865e-8266186f5e0b button');\n",
              "          quickchartButtonEl.style.display =\n",
              "            google.colab.kernel.accessAllowed ? 'block' : 'none';\n",
              "        })();\n",
              "      </script>\n",
              "    </div>\n",
              "\n",
              "  <div id=\"id_d31e703b-8398-46ed-92b2-dee8a9d895cd\">\n",
              "    <style>\n",
              "      .colab-df-generate {\n",
              "        background-color: #E8F0FE;\n",
              "        border: none;\n",
              "        border-radius: 50%;\n",
              "        cursor: pointer;\n",
              "        display: none;\n",
              "        fill: #1967D2;\n",
              "        height: 32px;\n",
              "        padding: 0 0 0 0;\n",
              "        width: 32px;\n",
              "      }\n",
              "\n",
              "      .colab-df-generate:hover {\n",
              "        background-color: #E2EBFA;\n",
              "        box-shadow: 0px 1px 2px rgba(60, 64, 67, 0.3), 0px 1px 3px 1px rgba(60, 64, 67, 0.15);\n",
              "        fill: #174EA6;\n",
              "      }\n",
              "\n",
              "      [theme=dark] .colab-df-generate {\n",
              "        background-color: #3B4455;\n",
              "        fill: #D2E3FC;\n",
              "      }\n",
              "\n",
              "      [theme=dark] .colab-df-generate:hover {\n",
              "        background-color: #434B5C;\n",
              "        box-shadow: 0px 1px 3px 1px rgba(0, 0, 0, 0.15);\n",
              "        filter: drop-shadow(0px 1px 2px rgba(0, 0, 0, 0.3));\n",
              "        fill: #FFFFFF;\n",
              "      }\n",
              "    </style>\n",
              "    <button class=\"colab-df-generate\" onclick=\"generateWithVariable('df')\"\n",
              "            title=\"Generate code using this dataframe.\"\n",
              "            style=\"display:none;\">\n",
              "\n",
              "  <svg xmlns=\"http://www.w3.org/2000/svg\" height=\"24px\"viewBox=\"0 0 24 24\"\n",
              "       width=\"24px\">\n",
              "    <path d=\"M7,19H8.4L18.45,9,17,7.55,7,17.6ZM5,21V16.75L18.45,3.32a2,2,0,0,1,2.83,0l1.4,1.43a1.91,1.91,0,0,1,.58,1.4,1.91,1.91,0,0,1-.58,1.4L9.25,21ZM18.45,9,17,7.55Zm-12,3A5.31,5.31,0,0,0,4.9,8.1,5.31,5.31,0,0,0,1,6.5,5.31,5.31,0,0,0,4.9,4.9,5.31,5.31,0,0,0,6.5,1,5.31,5.31,0,0,0,8.1,4.9,5.31,5.31,0,0,0,12,6.5,5.46,5.46,0,0,0,6.5,12Z\"/>\n",
              "  </svg>\n",
              "    </button>\n",
              "    <script>\n",
              "      (() => {\n",
              "      const buttonEl =\n",
              "        document.querySelector('#id_d31e703b-8398-46ed-92b2-dee8a9d895cd button.colab-df-generate');\n",
              "      buttonEl.style.display =\n",
              "        google.colab.kernel.accessAllowed ? 'block' : 'none';\n",
              "\n",
              "      buttonEl.onclick = () => {\n",
              "        google.colab.notebook.generateWithVariable('df');\n",
              "      }\n",
              "      })();\n",
              "    </script>\n",
              "  </div>\n",
              "\n",
              "    </div>\n",
              "  </div>\n"
            ],
            "application/vnd.google.colaboratory.intrinsic+json": {
              "type": "dataframe",
              "variable_name": "df",
              "summary": "{\n  \"name\": \"df\",\n  \"rows\": 2602,\n  \"fields\": [\n    {\n      \"column\": \"type\",\n      \"properties\": {\n        \"dtype\": \"category\",\n        \"num_unique_values\": 2,\n        \"samples\": [\n          \"ham\",\n          \"spam\"\n        ],\n        \"semantic_type\": \"\",\n        \"description\": \"\"\n      }\n    },\n    {\n      \"column\": \"text\",\n      \"properties\": {\n        \"dtype\": \"string\",\n        \"num_unique_values\": 2575,\n        \"samples\": [\n          \"\\u09b9\\u09cd\\u09af\\u09be\\u09b2\\u09c1,\\u09ae\\u09cd\\u09af\\u09be\\u09ae \\u0986\\u09b8\\u09b8\\u09be\\u09b2\\u09be\\u09ae\\u09c1\\u09df\\u09be\\u09b2\\u09be\\u0987\\u0995\\u09c1\\u09ae\\u0964\",\n          \"\\u09b8\\u09bf\\u09b8\\u09cd\\u099f\\u09c7\\u09ae \\u0986\\u09aa\\u0997\\u09cd\\u09b0\\u09c7\\u09a1\\u09c7\\u09b6\\u09a8\\u09c7\\u09b0 \\u099c\\u09a8\\u09cd\\u09af \\u09e8\\u09e8\\u099c\\u09c1\\u09b2\\u09be\\u0987 (\\u09b6\\u09c1\\u0995\\u09cd\\u09b0\\u09ac\\u09be\\u09b0, \\u09b0\\u09be\\u09a4 \\u09e7\\u09e8\\u099f\\u09be \\u09a5\\u09c7\\u0995\\u09c7 \\u09a6\\u09c1\\u09aa\\u09c1\\u09b0 \\u09e9\\u099f\\u09be) \\u09ac\\u09cd\\u09b0\\u09cd\\u09af\\u09be\\u0995 \\u09ac\\u09cd\\u09af\\u09be\\u0982\\u0995 \\u09a1\\u09c7\\u09ac\\u09bf\\u099f \\u0995\\u09be\\u09b0\\u09cd\\u09a1, \\u0986\\u09b8\\u09cd\\u09a5\\u09be \\u0985\\u09cd\\u09af\\u09be\\u09aa \\u0993 \\u098f\\u099f\\u09bf\\u098f\\u09ae \\u09b8\\u09c7\\u09ac\\u09be \\u09ac\\u09a8\\u09cd\\u09a7 \\u09a5\\u09be\\u0995\\u09ac\\u09c7\\u0964\"\n        ],\n        \"semantic_type\": \"\",\n        \"description\": \"\"\n      }\n    }\n  ]\n}"
            }
          },
          "metadata": {},
          "execution_count": 8
        }
      ]
    },
    {
      "cell_type": "code",
      "source": [
        "# --- Explore Dataset ---\n",
        "# Shape of dataset\n",
        "print(\"Shape of dataset:\", df.shape)"
      ],
      "metadata": {
        "colab": {
          "base_uri": "https://localhost:8080/"
        },
        "id": "m5yWQzXHwLFS",
        "outputId": "c259190b-a08b-4c25-d35c-0509fdd9d371"
      },
      "execution_count": null,
      "outputs": [
        {
          "output_type": "stream",
          "name": "stdout",
          "text": [
            "Shape of dataset: (2602, 2)\n"
          ]
        }
      ]
    },
    {
      "cell_type": "code",
      "source": [
        "# Info about columns\n",
        "print(\"\\nDataset Info:\")\n",
        "print(df.info())"
      ],
      "metadata": {
        "colab": {
          "base_uri": "https://localhost:8080/"
        },
        "id": "HLbANytTwO6q",
        "outputId": "e0650852-001c-4da2-927e-f3f02299df1f"
      },
      "execution_count": null,
      "outputs": [
        {
          "output_type": "stream",
          "name": "stdout",
          "text": [
            "\n",
            "Dataset Info:\n",
            "<class 'pandas.core.frame.DataFrame'>\n",
            "RangeIndex: 2602 entries, 0 to 2601\n",
            "Data columns (total 2 columns):\n",
            " #   Column  Non-Null Count  Dtype \n",
            "---  ------  --------------  ----- \n",
            " 0   type    2602 non-null   object\n",
            " 1   text    2602 non-null   object\n",
            "dtypes: object(2)\n",
            "memory usage: 40.8+ KB\n",
            "None\n"
          ]
        }
      ]
    },
    {
      "cell_type": "markdown",
      "source": [
        "# Step 2: Preprocessing with pandas"
      ],
      "metadata": {
        "id": "q4F1s3UF96gR"
      }
    },
    {
      "cell_type": "code",
      "source": [
        "# Check for null values\n",
        "print(\"\\nNull values in each column:\")\n",
        "print(df.isnull().sum())"
      ],
      "metadata": {
        "colab": {
          "base_uri": "https://localhost:8080/"
        },
        "id": "KIA4RkXKwRLo",
        "outputId": "7cc5ddf8-d0ba-457e-fd62-55162eb1817e"
      },
      "execution_count": null,
      "outputs": [
        {
          "output_type": "stream",
          "name": "stdout",
          "text": [
            "\n",
            "Null values in each column:\n",
            "type    0\n",
            "text    0\n",
            "dtype: int64\n"
          ]
        }
      ]
    },
    {
      "cell_type": "code",
      "source": [
        "# Check for duplicates\n",
        "print(\"\\nDuplicate rows:\", df.duplicated().sum())"
      ],
      "metadata": {
        "colab": {
          "base_uri": "https://localhost:8080/"
        },
        "id": "H1ZywiFzwTS3",
        "outputId": "e0c99575-33ba-49fe-de06-aa76472fa2b5"
      },
      "execution_count": null,
      "outputs": [
        {
          "output_type": "stream",
          "name": "stdout",
          "text": [
            "\n",
            "Duplicate rows: 25\n"
          ]
        }
      ]
    },
    {
      "cell_type": "code",
      "source": [
        "# Remove duplicate rows (keep the first occurrence by default)\n",
        "df = df.drop_duplicates()"
      ],
      "metadata": {
        "id": "Z9086zFqwVQZ"
      },
      "execution_count": null,
      "outputs": []
    },
    {
      "cell_type": "code",
      "source": [
        "df.shape"
      ],
      "metadata": {
        "colab": {
          "base_uri": "https://localhost:8080/"
        },
        "id": "MBIWxchRwgOX",
        "outputId": "bf01e267-8ddd-4a3b-e72c-2776c37203ec"
      },
      "execution_count": null,
      "outputs": [
        {
          "output_type": "execute_result",
          "data": {
            "text/plain": [
              "(2577, 2)"
            ]
          },
          "metadata": {},
          "execution_count": 14
        }
      ]
    },
    {
      "cell_type": "code",
      "source": [
        "# Class distribution\n",
        "print(\"\\nClass distribution:\")\n",
        "print(df['type'].value_counts())\n",
        "print(\"\\nClass distribution (%):\")\n",
        "print(df['type'].value_counts(normalize=True) * 100)"
      ],
      "metadata": {
        "colab": {
          "base_uri": "https://localhost:8080/"
        },
        "id": "C0MvkijFwiJJ",
        "outputId": "068860d3-e726-4e30-fbf9-ab1dbc47b4a3"
      },
      "execution_count": null,
      "outputs": [
        {
          "output_type": "stream",
          "name": "stdout",
          "text": [
            "\n",
            "Class distribution:\n",
            "type\n",
            "spam    1399\n",
            "ham     1178\n",
            "Name: count, dtype: int64\n",
            "\n",
            "Class distribution (%):\n",
            "type\n",
            "spam    54.287932\n",
            "ham     45.712068\n",
            "Name: proportion, dtype: float64\n"
          ]
        }
      ]
    },
    {
      "cell_type": "code",
      "source": [
        "# --- Visualization ---\n",
        "plt.figure(figsize=(6,4))\n",
        "sns.countplot(x='type', data=df, palette='Set2')\n",
        "plt.title(\"Distribution of SMS Types (Ham vs Spam)\")\n",
        "plt.xlabel(\"Message Type\")\n",
        "plt.ylabel(\"Count\")\n",
        "plt.show()"
      ],
      "metadata": {
        "colab": {
          "base_uri": "https://localhost:8080/",
          "height": 517
        },
        "id": "z6AwuU6SwxkI",
        "outputId": "c5bdd6d9-77dd-4053-9b0f-2ab6febb38eb"
      },
      "execution_count": null,
      "outputs": [
        {
          "output_type": "stream",
          "name": "stderr",
          "text": [
            "/tmp/ipython-input-3901349466.py:3: FutureWarning: \n",
            "\n",
            "Passing `palette` without assigning `hue` is deprecated and will be removed in v0.14.0. Assign the `x` variable to `hue` and set `legend=False` for the same effect.\n",
            "\n",
            "  sns.countplot(x='type', data=df, palette='Set2')\n"
          ]
        },
        {
          "output_type": "display_data",
          "data": {
            "text/plain": [
              "<Figure size 600x400 with 1 Axes>"
            ],
            "image/png": "[encoded data removed]"
          },
          "metadata": {}
        }
      ]
    },
    {
      "cell_type": "code",
      "source": [
        "# --- Encode labels ---\n",
        "df['label'] = df['type'].map({'ham': 0, 'spam': 1})"
      ],
      "metadata": {
        "colab": {
          "base_uri": "https://localhost:8080/"
        },
        "id": "4vY1KFY4wzkr",
        "outputId": "6272ff93-03e5-40b9-f7ca-55e54cd2c9a4"
      },
      "execution_count": null,
      "outputs": [
        {
          "output_type": "stream",
          "name": "stderr",
          "text": [
            "/tmp/ipython-input-2110052569.py:4: SettingWithCopyWarning: \n",
            "A value is trying to be set on a copy of a slice from a DataFrame.\n",
            "Try using .loc[row_indexer,col_indexer] = value instead\n",
            "\n",
            "See the caveats in the documentation: https://pandas.pydata.org/pandas-docs/stable/user_guide/indexing.html#returning-a-view-versus-a-copy\n",
            "  df['label'] = df['type'].map({'ham': 0, 'spam': 1})\n"
          ]
        }
      ]
    },
    {
      "cell_type": "code",
      "source": [
        "df.head()"
      ],
      "metadata": {
        "colab": {
          "base_uri": "https://localhost:8080/",
          "height": 206
        },
        "id": "_L1spKSpxE5N",
        "outputId": "6a8449eb-b9a7-4769-da82-f5f2f7cde38a"
      },
      "execution_count": null,
      "outputs": [
        {
          "output_type": "execute_result",
          "data": {
            "text/plain": [
              "   type                                               text  label\n",
              "0  spam  এই মেসেজটি শেয়ার করুন এবং জিতে নিন আকর্ষণীয় ...      1\n",
              "1  spam  আপনার বন্ধুদের রেফার করুন এবং প্রতি রেফারেলে ২...      1\n",
              "2   ham  ট্রানজ্যাকশন নম্বর R234321.1554.640085 20 টাকা...      0\n",
              "3  spam  নতুন অফার! সীমিত সময়ের জন্য পণ্যের উপর ৯০% পর...      1\n",
              "4   ham  নববর্ষের শুভেচ্ছা!! আল্লাহ আপনার সকল কষ্ট দূর ...      0"
            ],
            "text/html": [
              "\n",
              "  <div id=\"df-37f6d77d-296a-4e43-b094-25d97e0ba7aa\" class=\"colab-df-container\">\n",
              "    <div>\n",
              "<style scoped>\n",
              "    .dataframe tbody tr th:only-of-type {\n",
              "        vertical-align: middle;\n",
              "    }\n",
              "\n",
              "    .dataframe tbody tr th {\n",
              "        vertical-align: top;\n",
              "    }\n",
              "\n",
              "    .dataframe thead th {\n",
              "        text-align: right;\n",
              "    }\n",
              "</style>\n",
              "<table border=\"1\" class=\"dataframe\">\n",
              "  <thead>\n",
              "    <tr style=\"text-align: right;\">\n",
              "      <th></th>\n",
              "      <th>type</th>\n",
              "      <th>text</th>\n",
              "      <th>label</th>\n",
              "    </tr>\n",
              "  </thead>\n",
              "  <tbody>\n",
              "    <tr>\n",
              "      <th>0</th>\n",
              "      <td>spam</td>\n",
              "      <td>এই মেসেজটি শেয়ার করুন এবং জিতে নিন আকর্ষণীয় ...</td>\n",
              "      <td>1</td>\n",
              "    </tr>\n",
              "    <tr>\n",
              "      <th>1</th>\n",
              "      <td>spam</td>\n",
              "      <td>আপনার বন্ধুদের রেফার করুন এবং প্রতি রেফারেলে ২...</td>\n",
              "      <td>1</td>\n",
              "    </tr>\n",
              "    <tr>\n",
              "      <th>2</th>\n",
              "      <td>ham</td>\n",
              "      <td>ট্রানজ্যাকশন নম্বর R234321.1554.640085 20 টাকা...</td>\n",
              "      <td>0</td>\n",
              "    </tr>\n",
              "    <tr>\n",
              "      <th>3</th>\n",
              "      <td>spam</td>\n",
              "      <td>নতুন অফার! সীমিত সময়ের জন্য পণ্যের উপর ৯০% পর...</td>\n",
              "      <td>1</td>\n",
              "    </tr>\n",
              "    <tr>\n",
              "      <th>4</th>\n",
              "      <td>ham</td>\n",
              "      <td>নববর্ষের শুভেচ্ছা!! আল্লাহ আপনার সকল কষ্ট দূর ...</td>\n",
              "      <td>0</td>\n",
              "    </tr>\n",
              "  </tbody>\n",
              "</table>\n",
              "</div>\n",
              "    <div class=\"colab-df-buttons\">\n",
              "\n",
              "  <div class=\"colab-df-container\">\n",
              "    <button class=\"colab-df-convert\" onclick=\"convertToInteractive('df-37f6d77d-296a-4e43-b094-25d97e0ba7aa')\"\n",
              "            title=\"Convert this dataframe to an interactive table.\"\n",
              "            style=\"display:none;\">\n",
              "\n",
              "  <svg xmlns=\"http://www.w3.org/2000/svg\" height=\"24px\" viewBox=\"0 -960 960 960\">\n",
              "    <path d=\"M120-120v-720h720v720H120Zm60-500h600v-160H180v160Zm220 220h160v-160H400v160Zm0 220h160v-160H400v160ZM180-400h160v-160H180v160Zm440 0h160v-160H620v160ZM180-180h160v-160H180v160Zm440 0h160v-160H620v160Z\"/>\n",
              "  </svg>\n",
              "    </button>\n",
              "\n",
              "  <style>\n",
              "    .colab-df-container {\n",
              "      display:flex;\n",
              "      gap: 12px;\n",
              "    }\n",
              "\n",
              "    .colab-df-convert {\n",
              "      background-color: #E8F0FE;\n",
              "      border: none;\n",
              "      border-radius: 50%;\n",
              "      cursor: pointer;\n",
              "      display: none;\n",
              "      fill: #1967D2;\n",
              "      height: 32px;\n",
              "      padding: 0 0 0 0;\n",
              "      width: 32px;\n",
              "    }\n",
              "\n",
              "    .colab-df-convert:hover {\n",
              "      background-color: #E2EBFA;\n",
              "      box-shadow: 0px 1px 2px rgba(60, 64, 67, 0.3), 0px 1px 3px 1px rgba(60, 64, 67, 0.15);\n",
              "      fill: #174EA6;\n",
              "    }\n",
              "\n",
              "    .colab-df-buttons div {\n",
              "      margin-bottom: 4px;\n",
              "    }\n",
              "\n",
              "    [theme=dark] .colab-df-convert {\n",
              "      background-color: #3B4455;\n",
              "      fill: #D2E3FC;\n",
              "    }\n",
              "\n",
              "    [theme=dark] .colab-df-convert:hover {\n",
              "      background-color: #434B5C;\n",
              "      box-shadow: 0px 1px 3px 1px rgba(0, 0, 0, 0.15);\n",
              "      filter: drop-shadow(0px 1px 2px rgba(0, 0, 0, 0.3));\n",
              "      fill: #FFFFFF;\n",
              "    }\n",
              "  </style>\n",
              "\n",
              "    <script>\n",
              "      const buttonEl =\n",
              "        document.querySelector('#df-37f6d77d-296a-4e43-b094-25d97e0ba7aa button.colab-df-convert');\n",
              "      buttonEl.style.display =\n",
              "        google.colab.kernel.accessAllowed ? 'block' : 'none';\n",
              "\n",
              "      async function convertToInteractive(key) {\n",
              "        const element = document.querySelector('#df-37f6d77d-296a-4e43-b094-25d97e0ba7aa');\n",
              "        const dataTable =\n",
              "          await google.colab.kernel.invokeFunction('convertToInteractive',\n",
              "                                                    [key], {});\n",
              "        if (!dataTable) return;\n",
              "\n",
              "        const docLinkHtml = 'Like what you see? Visit the ' +\n",
              "          '<a target=\"_blank\" href=https://colab.research.google.com/notebooks/data_table.ipynb>data table notebook</a>'\n",
              "          + ' to learn more about interactive tables.';\n",
              "        element.innerHTML = '';\n",
              "        dataTable['output_type'] = 'display_data';\n",
              "        await google.colab.output.renderOutput(dataTable, element);\n",
              "        const docLink = document.createElement('div');\n",
              "        docLink.innerHTML = docLinkHtml;\n",
              "        element.appendChild(docLink);\n",
              "      }\n",
              "    </script>\n",
              "  </div>\n",
              "\n",
              "\n",
              "    <div id=\"df-feaf341a-cee4-4fa2-82e8-6c309534915b\">\n",
              "      <button class=\"colab-df-quickchart\" onclick=\"quickchart('df-feaf341a-cee4-4fa2-82e8-6c309534915b')\"\n",
              "                title=\"Suggest charts\"\n",
              "                style=\"display:none;\">\n",
              "\n",
              "<svg xmlns=\"http://www.w3.org/2000/svg\" height=\"24px\"viewBox=\"0 0 24 24\"\n",
              "     width=\"24px\">\n",
              "    <g>\n",
              "        <path d=\"M19 3H5c-1.1 0-2 .9-2 2v14c0 1.1.9 2 2 2h14c1.1 0 2-.9 2-2V5c0-1.1-.9-2-2-2zM9 17H7v-7h2v7zm4 0h-2V7h2v10zm4 0h-2v-4h2v4z\"/>\n",
              "    </g>\n",
              "</svg>\n",
              "      </button>\n",
              "\n",
              "<style>\n",
              "  .colab-df-quickchart {\n",
              "      --bg-color: #E8F0FE;\n",
              "      --fill-color: #1967D2;\n",
              "      --hover-bg-color: #E2EBFA;\n",
              "      --hover-fill-color: #174EA6;\n",
              "      --disabled-fill-color: #AAA;\n",
              "      --disabled-bg-color: #DDD;\n",
              "  }\n",
              "\n",
              "  [theme=dark] .colab-df-quickchart {\n",
              "      --bg-color: #3B4455;\n",
              "      --fill-color: #D2E3FC;\n",
              "      --hover-bg-color: #434B5C;\n",
              "      --hover-fill-color: #FFFFFF;\n",
              "      --disabled-bg-color: #3B4455;\n",
              "      --disabled-fill-color: #666;\n",
              "  }\n",
              "\n",
              "  .colab-df-quickchart {\n",
              "    background-color: var(--bg-color);\n",
              "    border: none;\n",
              "    border-radius: 50%;\n",
              "    cursor: pointer;\n",
              "    display: none;\n",
              "    fill: var(--fill-color);\n",
              "    height: 32px;\n",
              "    padding: 0;\n",
              "    width: 32px;\n",
              "  }\n",
              "\n",
              "  .colab-df-quickchart:hover {\n",
              "    background-color: var(--hover-bg-color);\n",
              "    box-shadow: 0 1px 2px rgba(60, 64, 67, 0.3), 0 1px 3px 1px rgba(60, 64, 67, 0.15);\n",
              "    fill: var(--button-hover-fill-color);\n",
              "  }\n",
              "\n",
              "  .colab-df-quickchart-complete:disabled,\n",
              "  .colab-df-quickchart-complete:disabled:hover {\n",
              "    background-color: var(--disabled-bg-color);\n",
              "    fill: var(--disabled-fill-color);\n",
              "    box-shadow: none;\n",
              "  }\n",
              "\n",
              "  .colab-df-spinner {\n",
              "    border: 2px solid var(--fill-color);\n",
              "    border-color: transparent;\n",
              "    border-bottom-color: var(--fill-color);\n",
              "    animation:\n",
              "      spin 1s steps(1) infinite;\n",
              "  }\n",
              "\n",
              "  @keyframes spin {\n",
              "    0% {\n",
              "      border-color: transparent;\n",
              "      border-bottom-color: var(--fill-color);\n",
              "      border-left-color: var(--fill-color);\n",
              "    }\n",
              "    20% {\n",
              "      border-color: transparent;\n",
              "      border-left-color: var(--fill-color);\n",
              "      border-top-color: var(--fill-color);\n",
              "    }\n",
              "    30% {\n",
              "      border-color: transparent;\n",
              "      border-left-color: var(--fill-color);\n",
              "      border-top-color: var(--fill-color);\n",
              "      border-right-color: var(--fill-color);\n",
              "    }\n",
              "    40% {\n",
              "      border-color: transparent;\n",
              "      border-right-color: var(--fill-color);\n",
              "      border-top-color: var(--fill-color);\n",
              "    }\n",
              "    60% {\n",
              "      border-color: transparent;\n",
              "      border-right-color: var(--fill-color);\n",
              "    }\n",
              "    80% {\n",
              "      border-color: transparent;\n",
              "      border-right-color: var(--fill-color);\n",
              "      border-bottom-color: var(--fill-color);\n",
              "    }\n",
              "    90% {\n",
              "      border-color: transparent;\n",
              "      border-bottom-color: var(--fill-color);\n",
              "    }\n",
              "  }\n",
              "</style>\n",
              "\n",
              "      <script>\n",
              "        async function quickchart(key) {\n",
              "          const quickchartButtonEl =\n",
              "            document.querySelector('#' + key + ' button');\n",
              "          quickchartButtonEl.disabled = true;  // To prevent multiple clicks.\n",
              "          quickchartButtonEl.classList.add('colab-df-spinner');\n",
              "          try {\n",
              "            const charts = await google.colab.kernel.invokeFunction(\n",
              "                'suggestCharts', [key], {});\n",
              "          } catch (error) {\n",
              "            console.error('Error during call to suggestCharts:', error);\n",
              "          }\n",
              "          quickchartButtonEl.classList.remove('colab-df-spinner');\n",
              "          quickchartButtonEl.classList.add('colab-df-quickchart-complete');\n",
              "        }\n",
              "        (() => {\n",
              "          let quickchartButtonEl =\n",
              "            document.querySelector('#df-feaf341a-cee4-4fa2-82e8-6c309534915b button');\n",
              "          quickchartButtonEl.style.display =\n",
              "            google.colab.kernel.accessAllowed ? 'block' : 'none';\n",
              "        })();\n",
              "      </script>\n",
              "    </div>\n",
              "\n",
              "    </div>\n",
              "  </div>\n"
            ],
            "application/vnd.google.colaboratory.intrinsic+json": {
              "type": "dataframe",
              "variable_name": "df",
              "summary": "{\n  \"name\": \"df\",\n  \"rows\": 2577,\n  \"fields\": [\n    {\n      \"column\": \"type\",\n      \"properties\": {\n        \"dtype\": \"category\",\n        \"num_unique_values\": 2,\n        \"samples\": [\n          \"ham\",\n          \"spam\"\n        ],\n        \"semantic_type\": \"\",\n        \"description\": \"\"\n      }\n    },\n    {\n      \"column\": \"text\",\n      \"properties\": {\n        \"dtype\": \"string\",\n        \"num_unique_values\": 2575,\n        \"samples\": [\n          \"\\u09b9\\u09cd\\u09af\\u09be\\u09b2\\u09c1,\\u09ae\\u09cd\\u09af\\u09be\\u09ae \\u0986\\u09b8\\u09b8\\u09be\\u09b2\\u09be\\u09ae\\u09c1\\u09df\\u09be\\u09b2\\u09be\\u0987\\u0995\\u09c1\\u09ae\\u0964\",\n          \"\\u09b8\\u09bf\\u09b8\\u09cd\\u099f\\u09c7\\u09ae \\u0986\\u09aa\\u0997\\u09cd\\u09b0\\u09c7\\u09a1\\u09c7\\u09b6\\u09a8\\u09c7\\u09b0 \\u099c\\u09a8\\u09cd\\u09af \\u09e8\\u09e8\\u099c\\u09c1\\u09b2\\u09be\\u0987 (\\u09b6\\u09c1\\u0995\\u09cd\\u09b0\\u09ac\\u09be\\u09b0, \\u09b0\\u09be\\u09a4 \\u09e7\\u09e8\\u099f\\u09be \\u09a5\\u09c7\\u0995\\u09c7 \\u09a6\\u09c1\\u09aa\\u09c1\\u09b0 \\u09e9\\u099f\\u09be) \\u09ac\\u09cd\\u09b0\\u09cd\\u09af\\u09be\\u0995 \\u09ac\\u09cd\\u09af\\u09be\\u0982\\u0995 \\u09a1\\u09c7\\u09ac\\u09bf\\u099f \\u0995\\u09be\\u09b0\\u09cd\\u09a1, \\u0986\\u09b8\\u09cd\\u09a5\\u09be \\u0985\\u09cd\\u09af\\u09be\\u09aa \\u0993 \\u098f\\u099f\\u09bf\\u098f\\u09ae \\u09b8\\u09c7\\u09ac\\u09be \\u09ac\\u09a8\\u09cd\\u09a7 \\u09a5\\u09be\\u0995\\u09ac\\u09c7\\u0964\"\n        ],\n        \"semantic_type\": \"\",\n        \"description\": \"\"\n      }\n    },\n    {\n      \"column\": \"label\",\n      \"properties\": {\n        \"dtype\": \"number\",\n        \"std\": 0,\n        \"min\": 0,\n        \"max\": 1,\n        \"num_unique_values\": 2,\n        \"samples\": [\n          0,\n          1\n        ],\n        \"semantic_type\": \"\",\n        \"description\": \"\"\n      }\n    }\n  ]\n}"
            }
          },
          "metadata": {},
          "execution_count": 20
        }
      ]
    },
    {
      "cell_type": "code",
      "source": [
        "# --- Preprocessing function ---\n",
        "def clean_text(text):\n",
        "    text = str(text).lower()  # lowercase\n",
        "    text = re.sub(r\"http\\S+|www\\S+\", \"<URL>\", text)   # replace URLs\n",
        "    text = re.sub(r\"\\+?\\d{10,13}\", \"<PHONE>\", text)   # replace phone numbers\n",
        "    text = re.sub(r\"\\d+\", \"<NUM>\", text)              # replace numbers\n",
        "    text = re.sub(r\"[^\\w\\s]\", \" \", text)              # remove punctuation/symbols\n",
        "    text = re.sub(r\"\\s+\", \" \", text).strip()          # remove extra spaces\n",
        "    return text"
      ],
      "metadata": {
        "id": "mr5q5FDyxJBs"
      },
      "execution_count": null,
      "outputs": []
    },
    {
      "cell_type": "code",
      "source": [
        "# --- Apply cleaning ---\n",
        "df['clean_text'] = df['text'].apply(clean_text)"
      ],
      "metadata": {
        "colab": {
          "base_uri": "https://localhost:8080/"
        },
        "id": "KNPeoZvpxP5c",
        "outputId": "437a0a65-621a-4175-9e82-b1744354479b"
      },
      "execution_count": null,
      "outputs": [
        {
          "output_type": "stream",
          "name": "stderr",
          "text": [
            "/tmp/ipython-input-2316920404.py:2: SettingWithCopyWarning: \n",
            "A value is trying to be set on a copy of a slice from a DataFrame.\n",
            "Try using .loc[row_indexer,col_indexer] = value instead\n",
            "\n",
            "See the caveats in the documentation: https://pandas.pydata.org/pandas-docs/stable/user_guide/indexing.html#returning-a-view-versus-a-copy\n",
            "  df['clean_text'] = df['text'].apply(clean_text)\n"
          ]
        }
      ]
    },
    {
      "cell_type": "code",
      "source": [
        "# --- Check results ---\n",
        "df[['text', 'clean_text', 'label']].head(10)"
      ],
      "metadata": {
        "colab": {
          "base_uri": "https://localhost:8080/",
          "height": 363
        },
        "id": "xhYqvBQxxRnb",
        "outputId": "e42e6d6b-36e0-4d6e-ba17-491b8ede84ce"
      },
      "execution_count": null,
      "outputs": [
        {
          "output_type": "execute_result",
          "data": {
            "text/plain": [
              "                                                text  \\\n",
              "0  এই মেসেজটি শেয়ার করুন এবং জিতে নিন আকর্ষণীয় ...   \n",
              "1  আপনার বন্ধুদের রেফার করুন এবং প্রতি রেফারেলে ২...   \n",
              "2  ট্রানজ্যাকশন নম্বর R234321.1554.640085 20 টাকা...   \n",
              "3  নতুন অফার! সীমিত সময়ের জন্য পণ্যের উপর ৯০% পর...   \n",
              "4  নববর্ষের শুভেচ্ছা!! আল্লাহ আপনার সকল কষ্ট দূর ...   \n",
              "5  আপনার ইমেইল যাচাই করুন এবং ২০০০ টাকা বোনাস জিতুন!   \n",
              "6         নতুন গ্যাজেট কিনুন এবং ১০% ক্যাশব্যাক পান!   \n",
              "7  আপনার মোবাইল রিচার্জ করুন এবং ১৫% ক্যাশব্যাক পান!   \n",
              "8   বিশেষ ছাড়! সব পণ্যের উপর ৯৫% পর্যন্ত ডিসকাউন্ট!   \n",
              "9                আজই ক্লিক করুন এবং ৫০০০ টাকা জিতুন!   \n",
              "\n",
              "                                          clean_text  label  \n",
              "0  এই ম স জট শ য র কর ন এব জ ত ন ন আকর ষণ য প রস ক র      1  \n",
              "1  আপন র বন ধ দ র র ফ র কর ন এব প রত র ফ র ল NUM ...      1  \n",
              "2  ট র নজ য কশন নম বর r NUM NUM NUM NUM ট ক র চ র...      0  \n",
              "3  নত ন অফ র স ম ত সময র জন য পণ য র উপর NUM পর য...      1  \n",
              "4  নববর ষ র শ ভ চ ছ আল ল হ আপন র সকল কষ ট দ র কর ...      0  \n",
              "5      আপন র ইম ইল য চ ই কর ন এব NUM ট ক ব ন স জ ত ন      1  \n",
              "6           নত ন গ য জ ট ক ন ন এব NUM ক য শব য ক প ন      1  \n",
              "7    আপন র ম ব ইল র চ র জ কর ন এব NUM ক য শব য ক প ন      1  \n",
              "8      ব শ ষ ছ ড সব পণ য র উপর NUM পর যন ত ড সক উন ট      1  \n",
              "9                    আজই ক ল ক কর ন এব NUM ট ক জ ত ন      1  "
            ],
            "text/html": [
              "\n",
              "  <div id=\"df-bdf9bd47-9c72-40f5-8e9f-45596b23a246\" class=\"colab-df-container\">\n",
              "    <div>\n",
              "<style scoped>\n",
              "    .dataframe tbody tr th:only-of-type {\n",
              "        vertical-align: middle;\n",
              "    }\n",
              "\n",
              "    .dataframe tbody tr th {\n",
              "        vertical-align: top;\n",
              "    }\n",
              "\n",
              "    .dataframe thead th {\n",
              "        text-align: right;\n",
              "    }\n",
              "</style>\n",
              "<table border=\"1\" class=\"dataframe\">\n",
              "  <thead>\n",
              "    <tr style=\"text-align: right;\">\n",
              "      <th></th>\n",
              "      <th>text</th>\n",
              "      <th>clean_text</th>\n",
              "      <th>label</th>\n",
              "    </tr>\n",
              "  </thead>\n",
              "  <tbody>\n",
              "    <tr>\n",
              "      <th>0</th>\n",
              "      <td>এই মেসেজটি শেয়ার করুন এবং জিতে নিন আকর্ষণীয় ...</td>\n",
              "      <td>এই ম স জট শ য র কর ন এব জ ত ন ন আকর ষণ য প রস ক র</td>\n",
              "      <td>1</td>\n",
              "    </tr>\n",
              "    <tr>\n",
              "      <th>1</th>\n",
              "      <td>আপনার বন্ধুদের রেফার করুন এবং প্রতি রেফারেলে ২...</td>\n",
              "      <td>আপন র বন ধ দ র র ফ র কর ন এব প রত র ফ র ল NUM ...</td>\n",
              "      <td>1</td>\n",
              "    </tr>\n",
              "    <tr>\n",
              "      <th>2</th>\n",
              "      <td>ট্রানজ্যাকশন নম্বর R234321.1554.640085 20 টাকা...</td>\n",
              "      <td>ট র নজ য কশন নম বর r NUM NUM NUM NUM ট ক র চ র...</td>\n",
              "      <td>0</td>\n",
              "    </tr>\n",
              "    <tr>\n",
              "      <th>3</th>\n",
              "      <td>নতুন অফার! সীমিত সময়ের জন্য পণ্যের উপর ৯০% পর...</td>\n",
              "      <td>নত ন অফ র স ম ত সময র জন য পণ য র উপর NUM পর য...</td>\n",
              "      <td>1</td>\n",
              "    </tr>\n",
              "    <tr>\n",
              "      <th>4</th>\n",
              "      <td>নববর্ষের শুভেচ্ছা!! আল্লাহ আপনার সকল কষ্ট দূর ...</td>\n",
              "      <td>নববর ষ র শ ভ চ ছ আল ল হ আপন র সকল কষ ট দ র কর ...</td>\n",
              "      <td>0</td>\n",
              "    </tr>\n",
              "    <tr>\n",
              "      <th>5</th>\n",
              "      <td>আপনার ইমেইল যাচাই করুন এবং ২০০০ টাকা বোনাস জিতুন!</td>\n",
              "      <td>আপন র ইম ইল য চ ই কর ন এব NUM ট ক ব ন স জ ত ন</td>\n",
              "      <td>1</td>\n",
              "    </tr>\n",
              "    <tr>\n",
              "      <th>6</th>\n",
              "      <td>নতুন গ্যাজেট কিনুন এবং ১০% ক্যাশব্যাক পান!</td>\n",
              "      <td>নত ন গ য জ ট ক ন ন এব NUM ক য শব য ক প ন</td>\n",
              "      <td>1</td>\n",
              "    </tr>\n",
              "    <tr>\n",
              "      <th>7</th>\n",
              "      <td>আপনার মোবাইল রিচার্জ করুন এবং ১৫% ক্যাশব্যাক পান!</td>\n",
              "      <td>আপন র ম ব ইল র চ র জ কর ন এব NUM ক য শব য ক প ন</td>\n",
              "      <td>1</td>\n",
              "    </tr>\n",
              "    <tr>\n",
              "      <th>8</th>\n",
              "      <td>বিশেষ ছাড়! সব পণ্যের উপর ৯৫% পর্যন্ত ডিসকাউন্ট!</td>\n",
              "      <td>ব শ ষ ছ ড সব পণ য র উপর NUM পর যন ত ড সক উন ট</td>\n",
              "      <td>1</td>\n",
              "    </tr>\n",
              "    <tr>\n",
              "      <th>9</th>\n",
              "      <td>আজই ক্লিক করুন এবং ৫০০০ টাকা জিতুন!</td>\n",
              "      <td>আজই ক ল ক কর ন এব NUM ট ক জ ত ন</td>\n",
              "      <td>1</td>\n",
              "    </tr>\n",
              "  </tbody>\n",
              "</table>\n",
              "</div>\n",
              "    <div class=\"colab-df-buttons\">\n",
              "\n",
              "  <div class=\"colab-df-container\">\n",
              "    <button class=\"colab-df-convert\" onclick=\"convertToInteractive('df-bdf9bd47-9c72-40f5-8e9f-45596b23a246')\"\n",
              "            title=\"Convert this dataframe to an interactive table.\"\n",
              "            style=\"display:none;\">\n",
              "\n",
              "  <svg xmlns=\"http://www.w3.org/2000/svg\" height=\"24px\" viewBox=\"0 -960 960 960\">\n",
              "    <path d=\"M120-120v-720h720v720H120Zm60-500h600v-160H180v160Zm220 220h160v-160H400v160Zm0 220h160v-160H400v160ZM180-400h160v-160H180v160Zm440 0h160v-160H620v160ZM180-180h160v-160H180v160Zm440 0h160v-160H620v160Z\"/>\n",
              "  </svg>\n",
              "    </button>\n",
              "\n",
              "  <style>\n",
              "    .colab-df-container {\n",
              "      display:flex;\n",
              "      gap: 12px;\n",
              "    }\n",
              "\n",
              "    .colab-df-convert {\n",
              "      background-color: #E8F0FE;\n",
              "      border: none;\n",
              "      border-radius: 50%;\n",
              "      cursor: pointer;\n",
              "      display: none;\n",
              "      fill: #1967D2;\n",
              "      height: 32px;\n",
              "      padding: 0 0 0 0;\n",
              "      width: 32px;\n",
              "    }\n",
              "\n",
              "    .colab-df-convert:hover {\n",
              "      background-color: #E2EBFA;\n",
              "      box-shadow: 0px 1px 2px rgba(60, 64, 67, 0.3), 0px 1px 3px 1px rgba(60, 64, 67, 0.15);\n",
              "      fill: #174EA6;\n",
              "    }\n",
              "\n",
              "    .colab-df-buttons div {\n",
              "      margin-bottom: 4px;\n",
              "    }\n",
              "\n",
              "    [theme=dark] .colab-df-convert {\n",
              "      background-color: #3B4455;\n",
              "      fill: #D2E3FC;\n",
              "    }\n",
              "\n",
              "    [theme=dark] .colab-df-convert:hover {\n",
              "      background-color: #434B5C;\n",
              "      box-shadow: 0px 1px 3px 1px rgba(0, 0, 0, 0.15);\n",
              "      filter: drop-shadow(0px 1px 2px rgba(0, 0, 0, 0.3));\n",
              "      fill: #FFFFFF;\n",
              "    }\n",
              "  </style>\n",
              "\n",
              "    <script>\n",
              "      const buttonEl =\n",
              "        document.querySelector('#df-bdf9bd47-9c72-40f5-8e9f-45596b23a246 button.colab-df-convert');\n",
              "      buttonEl.style.display =\n",
              "        google.colab.kernel.accessAllowed ? 'block' : 'none';\n",
              "\n",
              "      async function convertToInteractive(key) {\n",
              "        const element = document.querySelector('#df-bdf9bd47-9c72-40f5-8e9f-45596b23a246');\n",
              "        const dataTable =\n",
              "          await google.colab.kernel.invokeFunction('convertToInteractive',\n",
              "                                                    [key], {});\n",
              "        if (!dataTable) return;\n",
              "\n",
              "        const docLinkHtml = 'Like what you see? Visit the ' +\n",
              "          '<a target=\"_blank\" href=https://colab.research.google.com/notebooks/data_table.ipynb>data table notebook</a>'\n",
              "          + ' to learn more about interactive tables.';\n",
              "        element.innerHTML = '';\n",
              "        dataTable['output_type'] = 'display_data';\n",
              "        await google.colab.output.renderOutput(dataTable, element);\n",
              "        const docLink = document.createElement('div');\n",
              "        docLink.innerHTML = docLinkHtml;\n",
              "        element.appendChild(docLink);\n",
              "      }\n",
              "    </script>\n",
              "  </div>\n",
              "\n",
              "\n",
              "    <div id=\"df-fa01dacb-668d-4aaf-b396-6b59f1b26b12\">\n",
              "      <button class=\"colab-df-quickchart\" onclick=\"quickchart('df-fa01dacb-668d-4aaf-b396-6b59f1b26b12')\"\n",
              "                title=\"Suggest charts\"\n",
              "                style=\"display:none;\">\n",
              "\n",
              "<svg xmlns=\"http://www.w3.org/2000/svg\" height=\"24px\"viewBox=\"0 0 24 24\"\n",
              "     width=\"24px\">\n",
              "    <g>\n",
              "        <path d=\"M19 3H5c-1.1 0-2 .9-2 2v14c0 1.1.9 2 2 2h14c1.1 0 2-.9 2-2V5c0-1.1-.9-2-2-2zM9 17H7v-7h2v7zm4 0h-2V7h2v10zm4 0h-2v-4h2v4z\"/>\n",
              "    </g>\n",
              "</svg>\n",
              "      </button>\n",
              "\n",
              "<style>\n",
              "  .colab-df-quickchart {\n",
              "      --bg-color: #E8F0FE;\n",
              "      --fill-color: #1967D2;\n",
              "      --hover-bg-color: #E2EBFA;\n",
              "      --hover-fill-color: #174EA6;\n",
              "      --disabled-fill-color: #AAA;\n",
              "      --disabled-bg-color: #DDD;\n",
              "  }\n",
              "\n",
              "  [theme=dark] .colab-df-quickchart {\n",
              "      --bg-color: #3B4455;\n",
              "      --fill-color: #D2E3FC;\n",
              "      --hover-bg-color: #434B5C;\n",
              "      --hover-fill-color: #FFFFFF;\n",
              "      --disabled-bg-color: #3B4455;\n",
              "      --disabled-fill-color: #666;\n",
              "  }\n",
              "\n",
              "  .colab-df-quickchart {\n",
              "    background-color: var(--bg-color);\n",
              "    border: none;\n",
              "    border-radius: 50%;\n",
              "    cursor: pointer;\n",
              "    display: none;\n",
              "    fill: var(--fill-color);\n",
              "    height: 32px;\n",
              "    padding: 0;\n",
              "    width: 32px;\n",
              "  }\n",
              "\n",
              "  .colab-df-quickchart:hover {\n",
              "    background-color: var(--hover-bg-color);\n",
              "    box-shadow: 0 1px 2px rgba(60, 64, 67, 0.3), 0 1px 3px 1px rgba(60, 64, 67, 0.15);\n",
              "    fill: var(--button-hover-fill-color);\n",
              "  }\n",
              "\n",
              "  .colab-df-quickchart-complete:disabled,\n",
              "  .colab-df-quickchart-complete:disabled:hover {\n",
              "    background-color: var(--disabled-bg-color);\n",
              "    fill: var(--disabled-fill-color);\n",
              "    box-shadow: none;\n",
              "  }\n",
              "\n",
              "  .colab-df-spinner {\n",
              "    border: 2px solid var(--fill-color);\n",
              "    border-color: transparent;\n",
              "    border-bottom-color: var(--fill-color);\n",
              "    animation:\n",
              "      spin 1s steps(1) infinite;\n",
              "  }\n",
              "\n",
              "  @keyframes spin {\n",
              "    0% {\n",
              "      border-color: transparent;\n",
              "      border-bottom-color: var(--fill-color);\n",
              "      border-left-color: var(--fill-color);\n",
              "    }\n",
              "    20% {\n",
              "      border-color: transparent;\n",
              "      border-left-color: var(--fill-color);\n",
              "      border-top-color: var(--fill-color);\n",
              "    }\n",
              "    30% {\n",
              "      border-color: transparent;\n",
              "      border-left-color: var(--fill-color);\n",
              "      border-top-color: var(--fill-color);\n",
              "      border-right-color: var(--fill-color);\n",
              "    }\n",
              "    40% {\n",
              "      border-color: transparent;\n",
              "      border-right-color: var(--fill-color);\n",
              "      border-top-color: var(--fill-color);\n",
              "    }\n",
              "    60% {\n",
              "      border-color: transparent;\n",
              "      border-right-color: var(--fill-color);\n",
              "    }\n",
              "    80% {\n",
              "      border-color: transparent;\n",
              "      border-right-color: var(--fill-color);\n",
              "      border-bottom-color: var(--fill-color);\n",
              "    }\n",
              "    90% {\n",
              "      border-color: transparent;\n",
              "      border-bottom-color: var(--fill-color);\n",
              "    }\n",
              "  }\n",
              "</style>\n",
              "\n",
              "      <script>\n",
              "        async function quickchart(key) {\n",
              "          const quickchartButtonEl =\n",
              "            document.querySelector('#' + key + ' button');\n",
              "          quickchartButtonEl.disabled = true;  // To prevent multiple clicks.\n",
              "          quickchartButtonEl.classList.add('colab-df-spinner');\n",
              "          try {\n",
              "            const charts = await google.colab.kernel.invokeFunction(\n",
              "                'suggestCharts', [key], {});\n",
              "          } catch (error) {\n",
              "            console.error('Error during call to suggestCharts:', error);\n",
              "          }\n",
              "          quickchartButtonEl.classList.remove('colab-df-spinner');\n",
              "          quickchartButtonEl.classList.add('colab-df-quickchart-complete');\n",
              "        }\n",
              "        (() => {\n",
              "          let quickchartButtonEl =\n",
              "            document.querySelector('#df-fa01dacb-668d-4aaf-b396-6b59f1b26b12 button');\n",
              "          quickchartButtonEl.style.display =\n",
              "            google.colab.kernel.accessAllowed ? 'block' : 'none';\n",
              "        })();\n",
              "      </script>\n",
              "    </div>\n",
              "\n",
              "    </div>\n",
              "  </div>\n"
            ],
            "application/vnd.google.colaboratory.intrinsic+json": {
              "type": "dataframe",
              "summary": "{\n  \"name\": \"df[['text', 'clean_text', 'label']]\",\n  \"rows\": 10,\n  \"fields\": [\n    {\n      \"column\": \"text\",\n      \"properties\": {\n        \"dtype\": \"string\",\n        \"num_unique_values\": 10,\n        \"samples\": [\n          \"\\u09ac\\u09bf\\u09b6\\u09c7\\u09b7 \\u099b\\u09be\\u09a1\\u09bc! \\u09b8\\u09ac \\u09aa\\u09a3\\u09cd\\u09af\\u09c7\\u09b0 \\u0989\\u09aa\\u09b0 \\u09ef\\u09eb% \\u09aa\\u09b0\\u09cd\\u09af\\u09a8\\u09cd\\u09a4 \\u09a1\\u09bf\\u09b8\\u0995\\u09be\\u0989\\u09a8\\u09cd\\u099f!\",\n          \"\\u0986\\u09aa\\u09a8\\u09be\\u09b0 \\u09ac\\u09a8\\u09cd\\u09a7\\u09c1\\u09a6\\u09c7\\u09b0 \\u09b0\\u09c7\\u09ab\\u09be\\u09b0 \\u0995\\u09b0\\u09c1\\u09a8 \\u098f\\u09ac\\u0982 \\u09aa\\u09cd\\u09b0\\u09a4\\u09bf \\u09b0\\u09c7\\u09ab\\u09be\\u09b0\\u09c7\\u09b2\\u09c7 \\u09e8\\u09e6\\u09e6 \\u099f\\u09be\\u0995\\u09be \\u099c\\u09bf\\u09a4\\u09c1\\u09a8!\",\n          \"\\u0986\\u09aa\\u09a8\\u09be\\u09b0 \\u0987\\u09ae\\u09c7\\u0987\\u09b2 \\u09af\\u09be\\u099a\\u09be\\u0987 \\u0995\\u09b0\\u09c1\\u09a8 \\u098f\\u09ac\\u0982 \\u09e8\\u09e6\\u09e6\\u09e6 \\u099f\\u09be\\u0995\\u09be \\u09ac\\u09cb\\u09a8\\u09be\\u09b8 \\u099c\\u09bf\\u09a4\\u09c1\\u09a8!\"\n        ],\n        \"semantic_type\": \"\",\n        \"description\": \"\"\n      }\n    },\n    {\n      \"column\": \"clean_text\",\n      \"properties\": {\n        \"dtype\": \"string\",\n        \"num_unique_values\": 10,\n        \"samples\": [\n          \"\\u09ac \\u09b6 \\u09b7 \\u099b \\u09a1 \\u09b8\\u09ac \\u09aa\\u09a3 \\u09af \\u09b0 \\u0989\\u09aa\\u09b0 NUM \\u09aa\\u09b0 \\u09af\\u09a8 \\u09a4 \\u09a1 \\u09b8\\u0995 \\u0989\\u09a8 \\u099f\",\n          \"\\u0986\\u09aa\\u09a8 \\u09b0 \\u09ac\\u09a8 \\u09a7 \\u09a6 \\u09b0 \\u09b0 \\u09ab \\u09b0 \\u0995\\u09b0 \\u09a8 \\u098f\\u09ac \\u09aa \\u09b0\\u09a4 \\u09b0 \\u09ab \\u09b0 \\u09b2 NUM \\u099f \\u0995 \\u099c \\u09a4 \\u09a8\",\n          \"\\u0986\\u09aa\\u09a8 \\u09b0 \\u0987\\u09ae \\u0987\\u09b2 \\u09af \\u099a \\u0987 \\u0995\\u09b0 \\u09a8 \\u098f\\u09ac NUM \\u099f \\u0995 \\u09ac \\u09a8 \\u09b8 \\u099c \\u09a4 \\u09a8\"\n        ],\n        \"semantic_type\": \"\",\n        \"description\": \"\"\n      }\n    },\n    {\n      \"column\": \"label\",\n      \"properties\": {\n        \"dtype\": \"number\",\n        \"std\": 0,\n        \"min\": 0,\n        \"max\": 1,\n        \"num_unique_values\": 2,\n        \"samples\": [\n          0,\n          1\n        ],\n        \"semantic_type\": \"\",\n        \"description\": \"\"\n      }\n    }\n  ]\n}"
            }
          },
          "metadata": {},
          "execution_count": 28
        }
      ]
    },
    {
      "cell_type": "code",
      "source": [
        "df.shape"
      ],
      "metadata": {
        "colab": {
          "base_uri": "https://localhost:8080/"
        },
        "id": "Tx6fTTZ9xTp_",
        "outputId": "a85aa2b2-7f2c-4960-c544-785f62cea804"
      },
      "execution_count": null,
      "outputs": [
        {
          "output_type": "execute_result",
          "data": {
            "text/plain": [
              "(2577, 4)"
            ]
          },
          "metadata": {},
          "execution_count": 24
        }
      ]
    },
    {
      "cell_type": "markdown",
      "source": [
        "# Step 3: Feature Engineering + Train/Test Split"
      ],
      "metadata": {
        "id": "knVhfc11-IG-"
      }
    },
    {
      "cell_type": "code",
      "source": [
        "# --- Features (X) and Labels (y) ---\n",
        "X = df['clean_text']\n",
        "y = df['label']"
      ],
      "metadata": {
        "id": "FtbZTKw_x0FU"
      },
      "execution_count": null,
      "outputs": []
    },
    {
      "cell_type": "code",
      "source": [
        "# --- Train-Test Split (80/20) ---\n",
        "X_train, X_test, y_train, y_test = train_test_split(\n",
        "    X, y, test_size=0.2, random_state=42, stratify=y\n",
        ")"
      ],
      "metadata": {
        "id": "apEwYezlx2JG"
      },
      "execution_count": null,
      "outputs": []
    },
    {
      "cell_type": "code",
      "source": [
        "X_train"
      ],
      "metadata": {
        "colab": {
          "base_uri": "https://localhost:8080/",
          "height": 458
        },
        "id": "nymXzgwTx8z2",
        "outputId": "bd160cd7-dddd-4ad2-e315-ceac70cbba29"
      },
      "execution_count": null,
      "outputs": [
        {
          "output_type": "execute_result",
          "data": {
            "text/plain": [
              "1656    ল য পটপ র খছ ল ম ক ন মন ন ই ক ন ত ল য পটপ ত ব স য়\n",
              "706     ব ল দ শ ন ব হ ন ত অফ স র ক য ড ট পদ ন য় গ চলছ ...\n",
              "122       প রত দ ন NUM ট ক র ক ন ক ট য় NUM ট ক ক য শব য ক\n",
              "974                       ড ট NUM ও ম ন ট NUM NUM প য় ছ ন\n",
              "1995             এগ ল যদ জ ন ত প র আম দ রক ক ভ বব ভ ব দ খ\n",
              "                              ...                        \n",
              "2466    মন হয় ত র ম য ন জ র ত র এই ছ ট ট pd ক জ ন য় ন ...\n",
              "114              প রত দ ন NUM ট ক র ক ন ক ট য় ফ র ড ল ভ র\n",
              "1003    আজ NUM জ ব NUM দ ন র জন য NUM ট ক য় ড য় ল NUM NUM\n",
              "1544    ঈদ ক ন ক ট হ ক ড য়মন ড ওয় র ল ড র স থ উপভ গ কর...\n",
              "2300    অস থ র ব জ র স বস ত র অফ র NUM ট ক য় NUM ক জ আ...\n",
              "Name: clean_text, Length: 2061, dtype: object"
            ],
            "text/html": [
              "<div>\n",
              "<style scoped>\n",
              "    .dataframe tbody tr th:only-of-type {\n",
              "        vertical-align: middle;\n",
              "    }\n",
              "\n",
              "    .dataframe tbody tr th {\n",
              "        vertical-align: top;\n",
              "    }\n",
              "\n",
              "    .dataframe thead th {\n",
              "        text-align: right;\n",
              "    }\n",
              "</style>\n",
              "<table border=\"1\" class=\"dataframe\">\n",
              "  <thead>\n",
              "    <tr style=\"text-align: right;\">\n",
              "      <th></th>\n",
              "      <th>clean_text</th>\n",
              "    </tr>\n",
              "  </thead>\n",
              "  <tbody>\n",
              "    <tr>\n",
              "      <th>1656</th>\n",
              "      <td>ল য পটপ র খছ ল ম ক ন মন ন ই ক ন ত ল য পটপ ত ব স য়</td>\n",
              "    </tr>\n",
              "    <tr>\n",
              "      <th>706</th>\n",
              "      <td>ব ল দ শ ন ব হ ন ত অফ স র ক য ড ট পদ ন য় গ চলছ ...</td>\n",
              "    </tr>\n",
              "    <tr>\n",
              "      <th>122</th>\n",
              "      <td>প রত দ ন NUM ট ক র ক ন ক ট য় NUM ট ক ক য শব য ক</td>\n",
              "    </tr>\n",
              "    <tr>\n",
              "      <th>974</th>\n",
              "      <td>ড ট NUM ও ম ন ট NUM NUM প য় ছ ন</td>\n",
              "    </tr>\n",
              "    <tr>\n",
              "      <th>1995</th>\n",
              "      <td>এগ ল যদ জ ন ত প র আম দ রক ক ভ বব ভ ব দ খ</td>\n",
              "    </tr>\n",
              "    <tr>\n",
              "      <th>...</th>\n",
              "      <td>...</td>\n",
              "    </tr>\n",
              "    <tr>\n",
              "      <th>2466</th>\n",
              "      <td>মন হয় ত র ম য ন জ র ত র এই ছ ট ট pd ক জ ন য় ন ...</td>\n",
              "    </tr>\n",
              "    <tr>\n",
              "      <th>114</th>\n",
              "      <td>প রত দ ন NUM ট ক র ক ন ক ট য় ফ র ড ল ভ র</td>\n",
              "    </tr>\n",
              "    <tr>\n",
              "      <th>1003</th>\n",
              "      <td>আজ NUM জ ব NUM দ ন র জন য NUM ট ক য় ড য় ল NUM NUM</td>\n",
              "    </tr>\n",
              "    <tr>\n",
              "      <th>1544</th>\n",
              "      <td>ঈদ ক ন ক ট হ ক ড য়মন ড ওয় র ল ড র স থ উপভ গ কর...</td>\n",
              "    </tr>\n",
              "    <tr>\n",
              "      <th>2300</th>\n",
              "      <td>অস থ র ব জ র স বস ত র অফ র NUM ট ক য় NUM ক জ আ...</td>\n",
              "    </tr>\n",
              "  </tbody>\n",
              "</table>\n",
              "<p>2061 rows × 1 columns</p>\n",
              "</div><br><label><b>dtype:</b> object</label>"
            ]
          },
          "metadata": {},
          "execution_count": 30
        }
      ]
    },
    {
      "cell_type": "code",
      "source": [
        "y_train"
      ],
      "metadata": {
        "colab": {
          "base_uri": "https://localhost:8080/",
          "height": 458
        },
        "id": "Ckg9fd5-x-AH",
        "outputId": "96e8669d-0852-4379-cc28-948459474e93"
      },
      "execution_count": null,
      "outputs": [
        {
          "output_type": "execute_result",
          "data": {
            "text/plain": [
              "1656    0\n",
              "706     0\n",
              "122     1\n",
              "974     1\n",
              "1995    0\n",
              "       ..\n",
              "2466    0\n",
              "114     1\n",
              "1003    1\n",
              "1544    1\n",
              "2300    1\n",
              "Name: label, Length: 2061, dtype: int64"
            ],
            "text/html": [
              "<div>\n",
              "<style scoped>\n",
              "    .dataframe tbody tr th:only-of-type {\n",
              "        vertical-align: middle;\n",
              "    }\n",
              "\n",
              "    .dataframe tbody tr th {\n",
              "        vertical-align: top;\n",
              "    }\n",
              "\n",
              "    .dataframe thead th {\n",
              "        text-align: right;\n",
              "    }\n",
              "</style>\n",
              "<table border=\"1\" class=\"dataframe\">\n",
              "  <thead>\n",
              "    <tr style=\"text-align: right;\">\n",
              "      <th></th>\n",
              "      <th>label</th>\n",
              "    </tr>\n",
              "  </thead>\n",
              "  <tbody>\n",
              "    <tr>\n",
              "      <th>1656</th>\n",
              "      <td>0</td>\n",
              "    </tr>\n",
              "    <tr>\n",
              "      <th>706</th>\n",
              "      <td>0</td>\n",
              "    </tr>\n",
              "    <tr>\n",
              "      <th>122</th>\n",
              "      <td>1</td>\n",
              "    </tr>\n",
              "    <tr>\n",
              "      <th>974</th>\n",
              "      <td>1</td>\n",
              "    </tr>\n",
              "    <tr>\n",
              "      <th>1995</th>\n",
              "      <td>0</td>\n",
              "    </tr>\n",
              "    <tr>\n",
              "      <th>...</th>\n",
              "      <td>...</td>\n",
              "    </tr>\n",
              "    <tr>\n",
              "      <th>2466</th>\n",
              "      <td>0</td>\n",
              "    </tr>\n",
              "    <tr>\n",
              "      <th>114</th>\n",
              "      <td>1</td>\n",
              "    </tr>\n",
              "    <tr>\n",
              "      <th>1003</th>\n",
              "      <td>1</td>\n",
              "    </tr>\n",
              "    <tr>\n",
              "      <th>1544</th>\n",
              "      <td>1</td>\n",
              "    </tr>\n",
              "    <tr>\n",
              "      <th>2300</th>\n",
              "      <td>1</td>\n",
              "    </tr>\n",
              "  </tbody>\n",
              "</table>\n",
              "<p>2061 rows × 1 columns</p>\n",
              "</div><br><label><b>dtype:</b> int64</label>"
            ]
          },
          "metadata": {},
          "execution_count": 31
        }
      ]
    },
    {
      "cell_type": "code",
      "source": [
        "print(\"Training samples:\", X_train.shape[0])\n",
        "print(\"Testing samples:\", X_test.shape[0])"
      ],
      "metadata": {
        "colab": {
          "base_uri": "https://localhost:8080/"
        },
        "id": "Cjc6ol29yBYr",
        "outputId": "04976218-def1-4428-e721-dd1c1a46a875"
      },
      "execution_count": null,
      "outputs": [
        {
          "output_type": "stream",
          "name": "stdout",
          "text": [
            "Training samples: 2061\n",
            "Testing samples: 516\n"
          ]
        }
      ]
    },
    {
      "cell_type": "code",
      "source": [
        "# --- TF-IDF Vectorization ---\n",
        "tfidf = TfidfVectorizer(\n",
        "    max_features=5000,   # limit vocabulary size for speed\n",
        "    ngram_range=(1,2),   # use unigrams + bigrams (captures short spam patterns)\n",
        "    sublinear_tf=True    # reduces impact of very frequent words\n",
        ")"
      ],
      "metadata": {
        "id": "tKw49-E5yD2T"
      },
      "execution_count": null,
      "outputs": []
    },
    {
      "cell_type": "code",
      "source": [
        "# Fit on training data and transform both train & test\n",
        "X_train_tfidf = tfidf.fit_transform(X_train)\n",
        "X_test_tfidf = tfidf.transform(X_test)"
      ],
      "metadata": {
        "id": "oOnZf-BnyGqx"
      },
      "execution_count": null,
      "outputs": []
    },
    {
      "cell_type": "code",
      "source": [
        "print(\"TF-IDF Matrix (train):\", X_train_tfidf.shape)\n",
        "print(\"TF-IDF Matrix (test):\", X_test_tfidf.shape)"
      ],
      "metadata": {
        "colab": {
          "base_uri": "https://localhost:8080/"
        },
        "id": "0mbqR4PzyJZq",
        "outputId": "a11be0ba-8d20-4c66-84a7-4c137d8bcd24"
      },
      "execution_count": null,
      "outputs": [
        {
          "output_type": "stream",
          "name": "stdout",
          "text": [
            "TF-IDF Matrix (train): (2061, 5000)\n",
            "TF-IDF Matrix (test): (516, 5000)\n"
          ]
        }
      ]
    },
    {
      "cell_type": "markdown",
      "source": [
        "# Step 4: Training baseline models"
      ],
      "metadata": {
        "id": "SX7c-mDi-OR1"
      }
    },
    {
      "cell_type": "code",
      "source": [
        "# --- Define models ---\n",
        "models = {\n",
        "    \"Naive Bayes\": MultinomialNB(),\n",
        "    \"Logistic Regression\": LogisticRegression(max_iter=1000, class_weight='balanced'),\n",
        "    \"SVM\": LinearSVC(class_weight='balanced')\n",
        "}"
      ],
      "metadata": {
        "id": "yXIrFfnUybVI"
      },
      "execution_count": null,
      "outputs": []
    },
    {
      "cell_type": "code",
      "source": [
        "# --- Train & Evaluate ---\n",
        "for name, model in models.items():\n",
        "    print(f\"\\n===== {name} =====\")\n",
        "    # Train\n",
        "    model.fit(X_train_tfidf, y_train)\n",
        "\n",
        "    # Predict\n",
        "    y_pred = model.predict(X_test_tfidf)\n",
        "\n",
        "    # Evaluation\n",
        "    print(\"Accuracy:\", accuracy_score(y_test, y_pred))\n",
        "    print(\"\\nClassification Report:\")\n",
        "    print(classification_report(y_test, y_pred, target_names=[\"Ham\", \"Spam\"]))\n",
        "\n",
        "    print(\"Confusion Matrix:\")\n",
        "    print(confusion_matrix(y_test, y_pred))"
      ],
      "metadata": {
        "colab": {
          "base_uri": "https://localhost:8080/"
        },
        "id": "Bu5g_ic_ydej",
        "outputId": "103122f4-adbe-449e-edb5-462c32f21d6d"
      },
      "execution_count": null,
      "outputs": [
        {
          "output_type": "stream",
          "name": "stdout",
          "text": [
            "\n",
            "===== Naive Bayes =====\n",
            "Accuracy: 0.9496124031007752\n",
            "\n",
            "Classification Report:\n",
            "              precision    recall  f1-score   support\n",
            "\n",
            "         Ham       0.97      0.92      0.94       236\n",
            "        Spam       0.93      0.97      0.95       280\n",
            "\n",
            "    accuracy                           0.95       516\n",
            "   macro avg       0.95      0.95      0.95       516\n",
            "weighted avg       0.95      0.95      0.95       516\n",
            "\n",
            "Confusion Matrix:\n",
            "[[217  19]\n",
            " [  7 273]]\n",
            "\n",
            "===== Logistic Regression =====\n",
            "Accuracy: 0.9573643410852714\n",
            "\n",
            "Classification Report:\n",
            "              precision    recall  f1-score   support\n",
            "\n",
            "         Ham       0.95      0.95      0.95       236\n",
            "        Spam       0.96      0.96      0.96       280\n",
            "\n",
            "    accuracy                           0.96       516\n",
            "   macro avg       0.96      0.96      0.96       516\n",
            "weighted avg       0.96      0.96      0.96       516\n",
            "\n",
            "Confusion Matrix:\n",
            "[[225  11]\n",
            " [ 11 269]]\n",
            "\n",
            "===== SVM =====\n",
            "Accuracy: 0.9748062015503876\n",
            "\n",
            "Classification Report:\n",
            "              precision    recall  f1-score   support\n",
            "\n",
            "         Ham       0.97      0.98      0.97       236\n",
            "        Spam       0.98      0.97      0.98       280\n",
            "\n",
            "    accuracy                           0.97       516\n",
            "   macro avg       0.97      0.98      0.97       516\n",
            "weighted avg       0.97      0.97      0.97       516\n",
            "\n",
            "Confusion Matrix:\n",
            "[[231   5]\n",
            " [  8 272]]\n"
          ]
        }
      ]
    },
    {
      "cell_type": "code",
      "source": [
        "# Store results\n",
        "results = []\n",
        "\n",
        "for name, model in models.items():\n",
        "    # Train\n",
        "    model.fit(X_train_tfidf, y_train)\n",
        "    # Predict\n",
        "    y_pred = model.predict(X_test_tfidf)\n",
        "\n",
        "    # Metrics\n",
        "    acc = accuracy_score(y_test, y_pred)\n",
        "    f1 = f1_score(y_test, y_pred)   # binary F1 (spam is 1)\n",
        "\n",
        "    results.append({\"Model\": name, \"Accuracy\": acc, \"F1-Score\": f1})"
      ],
      "metadata": {
        "id": "0uTsPLQDyhLo"
      },
      "execution_count": null,
      "outputs": []
    },
    {
      "cell_type": "code",
      "source": [
        "# Convert results to DataFrame\n",
        "results_df = pd.DataFrame(results)\n",
        "\n",
        "print(\"\\nModel Performance:\")\n",
        "print(results_df)"
      ],
      "metadata": {
        "colab": {
          "base_uri": "https://localhost:8080/"
        },
        "id": "RRz0ugVhywvA",
        "outputId": "f8ff1fd0-4593-4065-882a-28d445cc12f6"
      },
      "execution_count": null,
      "outputs": [
        {
          "output_type": "stream",
          "name": "stdout",
          "text": [
            "\n",
            "Model Performance:\n",
            "                 Model  Accuracy  F1-Score\n",
            "0          Naive Bayes  0.949612  0.954545\n",
            "1  Logistic Regression  0.957364  0.960714\n",
            "2                  SVM  0.974806  0.976661\n"
          ]
        }
      ]
    },
    {
      "cell_type": "code",
      "source": [
        "# Reshape dataframe into long format\n",
        "plot_df = results_df.melt(id_vars=\"Model\", value_vars=[\"Accuracy\", \"F1-Score\"],\n",
        "                          var_name=\"Metric\", value_name=\"Score\")\n",
        "\n",
        "# --- Visualization ---\n",
        "plt.figure(figsize=(9,6))\n",
        "sns.barplot(x=\"Model\", y=\"Score\", hue=\"Metric\", data=plot_df, palette=\"Set2\", dodge=0.7)\n",
        "\n",
        "plt.title(\"Model Comparison: Accuracy vs F1-Score\")\n",
        "plt.ylabel(\"Score\")\n",
        "plt.ylim(0, 1)  # scores between 0 and 1\n",
        "plt.legend(title=\"Metric\", loc=\"center right\")\n",
        "plt.tight_layout()\n",
        "plt.show()"
      ],
      "metadata": {
        "colab": {
          "base_uri": "https://localhost:8080/",
          "height": 607
        },
        "id": "PPleKB5x-gM-",
        "outputId": "1e84dfcc-30a3-44c2-faae-0e8830c75286"
      },
      "execution_count": 72,
      "outputs": [
        {
          "output_type": "display_data",
          "data": {
            "text/plain": [
              "<Figure size 900x600 with 1 Axes>"
            ],
            "image/png": "[encoded data removed]"
          },
          "metadata": {}
        }
      ]
    },
    {
      "cell_type": "markdown",
      "source": [
        "# Step 5: Find the best model & Save it"
      ],
      "metadata": {
        "id": "oRjpFLHR_EyY"
      }
    },
    {
      "cell_type": "code",
      "source": [
        "best_model = None\n",
        "best_score = 0\n",
        "best_name = \"\"\n",
        "\n",
        "for name, model in models.items():\n",
        "    # Train\n",
        "    model.fit(X_train_tfidf, y_train)\n",
        "    # Predict\n",
        "    y_pred = model.predict(X_test_tfidf)\n",
        "\n",
        "    # Accuracy\n",
        "    acc = accuracy_score(y_test, y_pred)\n",
        "\n",
        "    # Track best model by Accuracy\n",
        "    if acc > best_score:\n",
        "        best_model = model\n",
        "        best_score = acc\n",
        "        best_name = name\n",
        "\n",
        "print(f\"\\n✅ Best Model: {best_name} with Accuracy = {best_score:.4f}\")"
      ],
      "metadata": {
        "colab": {
          "base_uri": "https://localhost:8080/"
        },
        "id": "8P0h1q_8y4ZJ",
        "outputId": "e83146da-5770-4db1-b32e-baeea2bfb614"
      },
      "execution_count": null,
      "outputs": [
        {
          "output_type": "stream",
          "name": "stdout",
          "text": [
            "\n",
            "✅ Best Model: SVM with Accuracy = 0.9748\n"
          ]
        }
      ]
    },
    {
      "cell_type": "code",
      "source": [
        "# --- Save the best model using pickle ---\n",
        "with open(\"best_spam_model.pkl\", \"wb\") as f:\n",
        "    pickle.dump(best_model, f)\n",
        "\n",
        "# --- Save the TF-IDF vectorizer too (needed for preprocessing) ---\n",
        "with open(\"tfidf_vectorizer.pkl\", \"wb\") as f:\n",
        "    pickle.dump(tfidf, f)\n",
        "\n",
        "print(\"📦 Best model and TF-IDF vectorizer saved successfully!\")"
      ],
      "metadata": {
        "colab": {
          "base_uri": "https://localhost:8080/"
        },
        "id": "8uyTRgK1z3Ps",
        "outputId": "a6fbc7b9-d4e6-4904-a664-68c88f80a57c"
      },
      "execution_count": null,
      "outputs": [
        {
          "output_type": "stream",
          "name": "stdout",
          "text": [
            "📦 Best model and TF-IDF vectorizer saved successfully!\n"
          ]
        }
      ]
    },
    {
      "cell_type": "markdown",
      "source": [
        "# Step 6: loading the saved model & testing on new SMS messages."
      ],
      "metadata": {
        "id": "aYoy9S9G_Yjt"
      }
    },
    {
      "cell_type": "code",
      "source": [
        "# --- Load saved model and vectorizer ---\n",
        "with open(\"best_spam_model.pkl\", \"rb\") as f:\n",
        "    best_model = pickle.load(f)\n",
        "\n",
        "with open(\"tfidf_vectorizer.pkl\", \"rb\") as f:\n",
        "    tfidf = pickle.load(f)"
      ],
      "metadata": {
        "id": "w0JVb5HC0lrc"
      },
      "execution_count": null,
      "outputs": []
    },
    {
      "cell_type": "code",
      "source": [
        "# --- Preprocessing function (same as before) ---\n",
        "def clean_text(text):\n",
        "    text = str(text).lower()\n",
        "    text = re.sub(r\"http\\S+|www\\S+\", \"<URL>\", text)   # replace URLs\n",
        "    text = re.sub(r\"\\+?\\d{10,13}\", \"<PHONE>\", text)   # replace phone numbers\n",
        "    text = re.sub(r\"\\d+\", \"<NUM>\", text)              # replace numbers\n",
        "    text = re.sub(r\"[^\\w\\s]\", \" \", text)              # remove punctuation/symbols\n",
        "    text = re.sub(r\"\\s+\", \" \", text).strip()\n",
        "    return text"
      ],
      "metadata": {
        "id": "5aH4HQLz0oHs"
      },
      "execution_count": null,
      "outputs": []
    },
    {
      "cell_type": "code",
      "source": [
        "# --- Prediction function ---\n",
        "def predict_sms(message):\n",
        "    # Preprocess\n",
        "    cleaned = clean_text(message)\n",
        "    # Vectorize\n",
        "    features = tfidf.transform([cleaned])\n",
        "    # Predict\n",
        "    prediction = best_model.predict(features)[0]\n",
        "    label = \"Spam\" if prediction == 1 else \"Ham\"\n",
        "    return label"
      ],
      "metadata": {
        "id": "PmTeW0j30qyg"
      },
      "execution_count": null,
      "outputs": []
    },
    {
      "cell_type": "code",
      "source": [
        "# --- Test with some examples ---\n",
        "samples = [\n",
        "    \"আপনার বিকাশ একাউন্টে টাকা পাঠানো হয়েছে।\",\n",
        "    \"Free offer!!! Click this link to win a prize http://spam.com\",\n",
        "    \"মিটিং কাল দুপুর ২টায় হবে। সবাই আসবেন।\"\n",
        "]"
      ],
      "metadata": {
        "id": "sAY_0i7K0soU"
      },
      "execution_count": null,
      "outputs": []
    },
    {
      "cell_type": "code",
      "source": [
        "for msg in samples:\n",
        "    print(f\"Message: {msg}\")\n",
        "    print(\"Prediction:\", predict_sms(msg))\n",
        "    print(\"-\" * 50)\n"
      ],
      "metadata": {
        "colab": {
          "base_uri": "https://localhost:8080/"
        },
        "id": "_-qhpzpk0uqa",
        "outputId": "a5e4a1a5-ef4b-494b-9fed-0f876b3824a6"
      },
      "execution_count": null,
      "outputs": [
        {
          "output_type": "stream",
          "name": "stdout",
          "text": [
            "Message: আপনার বিকাশ একাউন্টে টাকা পাঠানো হয়েছে।\n",
            "Prediction: Spam\n",
            "--------------------------------------------------\n",
            "Message: Free offer!!! Click this link to win a prize http://spam.com\n",
            "Prediction: Spam\n",
            "--------------------------------------------------\n",
            "Message: মিটিং কাল দুপুর ২টায় হবে। সবাই আসবেন।\n",
            "Prediction: Ham\n",
            "--------------------------------------------------\n"
          ]
        }
      ]
    },
    {
      "cell_type": "code",
      "source": [],
      "metadata": {
        "id": "12u5JmvO0yEX"
      },
      "execution_count": null,
      "outputs": []
    }
  ]
}